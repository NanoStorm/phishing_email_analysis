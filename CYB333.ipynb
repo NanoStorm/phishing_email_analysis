{
 "cells": [
  {
   "cell_type": "markdown",
   "id": "f29c370a",
   "metadata": {},
   "source": [
    "# Project CYB333: Cybersecurity Data Analysis\n",
    "\n",
    "This project uses a phishing dataset I created to explore cybersecurity threats using Python (Pandas and Matplotlib). The data is analyzed for patterns such as phishing vs legitimate URLs, average URL lengths, and the use of IP addresses and URL shortening services. \n"
   ]
  },
  {
   "cell_type": "markdown",
   "id": "23092455",
   "metadata": {},
   "source": [
    "## Step 1: Import Libraries and load dataset"
   ]
  },
  {
   "cell_type": "code",
   "execution_count": null,
   "id": "a1b273a3",
   "metadata": {},
   "outputs": [],
   "source": [
    "# Import the libraries\n",
    "import pandas as pd\n",
    "import matplotlib.pyplot as plt\n",
    "\n",
    "# Load the CSV file\n",
    "data = pd.read_csv('phishing_dataset.csv')\n",
    "\n",
    "# Show the first few rows\n",
    "data.head()\n"
   ]
  },
  {
   "cell_type": "markdown",
   "id": "2af99934",
   "metadata": {},
   "source": [
    "## Step 2: Explore the Dataset"
   ]
  },
  {
   "cell_type": "code",
   "execution_count": null,
   "id": "0d0f9f88",
   "metadata": {},
   "outputs": [],
   "source": [
    "# Check for missing values\n",
    "print(\"Missing values:\\n\", data.isnull().sum())\n",
    "\n",
    "# See basic information about the dataset\n",
    "print(\"\\nData info:\")\n",
    "print(data.info())\n",
    "\n",
    "# Quick stats about the data (if numeric fields exist)\n",
    "print(\"\\nData description:\")\n",
    "print(data.describe())\n"
   ]
  },
  {
   "cell_type": "markdown",
   "id": "b35fff0e",
   "metadata": {},
   "source": [
    "## Step 3: Analyze the Dataset"
   ]
  },
  {
   "cell_type": "code",
   "execution_count": null,
   "id": "b9fb95e9",
   "metadata": {},
   "outputs": [],
   "source": [
    "# Count how many phishing vs legitimate URLs\n",
    "print(\"Phishing vs Legitimate URLs:\")\n",
    "print(data['Label'].value_counts())\n",
    "\n",
    "# Calculate average URL length for phishing and legitimate URLs\n",
    "print(\"\\nAverage URL Lengths:\")\n",
    "print(data.groupby('Label')['URL_Length'].mean())\n",
    "\n",
    "# Percentage of URLs that have an IP Address\n",
    "ip_usage_percentage = (data['Has_IP_Address'].sum() / len(data)) * 100\n",
    "print(f\"\\nPercentage of URLs using IP Address: {ip_usage_percentage:.2f}%\")\n",
    "\n",
    "# Percentage of URLs that are Shortened\n",
    "shortened_usage_percentage = (data['Is_Shortened'].sum() / len(data)) * 100\n",
    "print(f\"Percentage of URLs that are Shortened: {shortened_usage_percentage:.2f}%\")\n"
   ]
  },
  {
   "cell_type": "markdown",
   "id": "c9cbc435",
   "metadata": {},
   "source": [
    "## Step 4: Bar Graph of Phishing vs Legitimate URLs"
   ]
  },
  {
   "cell_type": "code",
   "execution_count": null,
   "id": "06677376",
   "metadata": {},
   "outputs": [],
   "source": [
    "# Bar Graph - Phishing vs Legitimate URLs\n",
    "import matplotlib.pyplot as plt\n",
    "\n",
    "# Count phishing vs legitimate\n",
    "label_counts = data['Label'].value_counts()\n",
    "\n",
    "# Plot\n",
    "plt.figure(figsize=(6,4))\n",
    "label_counts.plot(kind='bar', color=['red', 'green'])\n",
    "\n",
    "# Titles and labels\n",
    "plt.title('Phishing vs Legitimate URLs')\n",
    "plt.xlabel('Label (1 = Phishing, 0 = Legitimate)')\n",
    "plt.ylabel('Count')\n",
    "plt.xticks(rotation=0)  # Keep labels horizontal\n",
    "\n",
    "# Show the graph\n",
    "plt.show()\n"
   ]
  },
  {
   "cell_type": "markdown",
   "id": "e0d2876b",
   "metadata": {},
   "source": [
    "## Step 5: Pie Chart of Shortened vs Normal URLs"
   ]
  },
  {
   "cell_type": "code",
   "execution_count": null,
   "id": "cc9aecd0",
   "metadata": {},
   "outputs": [],
   "source": [
    "# Pie Chart - Shortened vs Normal URLs\n",
    "# Count how many shortened vs not\n",
    "shortened_counts = data['Is_Shortened'].value_counts()\n",
    "\n",
    "# Labels for pie pieces\n",
    "labels = ['Normal URL', 'Shortened URL']\n",
    "\n",
    "# Plot pie chart\n",
    "plt.figure(figsize=(6,6))\n",
    "plt.pie(shortened_counts, labels=labels, autopct='%1.1f%%', startangle=140, colors=['lightblue', 'lightcoral'])\n",
    "\n",
    "# Add a title\n",
    "plt.title('Percentage of Shortened vs Normal URLs')\n",
    "\n",
    "# Show the chart\n",
    "plt.show()\n"
   ]
  },
  {
   "cell_type": "code",
   "execution_count": null,
   "id": "6c5ef805",
   "metadata": {},
   "outputs": [],
   "source": []
  }
 ],
 "metadata": {
  "kernelspec": {
   "display_name": "base",
   "language": "python",
   "name": "python3"
  },
  "language_info": {
   "codemirror_mode": {
    "name": "ipython",
    "version": 3
   },
   "file_extension": ".py",
   "mimetype": "text/x-python",
   "name": "python",
   "nbconvert_exporter": "python",
   "pygments_lexer": "ipython3",
   "version": "3.12.7"
  }
 },
 "nbformat": 4,
 "nbformat_minor": 5
}
